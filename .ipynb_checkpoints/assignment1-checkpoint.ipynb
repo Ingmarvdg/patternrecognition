{
 "cells": [
  {
   "cell_type": "markdown",
   "metadata": {},
   "source": [
    "# Abstract \n",
    "content"
   ]
  },
  {
   "cell_type": "markdown",
   "metadata": {},
   "source": [
    "# Introduction\n",
    "content"
   ]
  },
  {
   "cell_type": "markdown",
   "metadata": {},
   "source": [
    "# Data \n",
    "content"
   ]
  },
  {
   "cell_type": "code",
   "execution_count": 22,
   "metadata": {},
   "outputs": [],
   "source": [
    "# imports\n",
    "import pandas as pd\n",
    "import os \n",
    "import numpy as np\n",
    "from matplotlib import pyplot as plt\n",
    "import matplotlib.colors as colors\n",
    "from pylab import cm\n",
    "import seaborn as sns\n",
    "import scipy.stats as stats\n",
    "import math\n",
    "from matplotlib.patches import Ellipse\n",
    "from sklearn.model_selection import GridSearchCV\n",
    "from sklearn.linear_model import LogisticRegression\n",
    "from sklearn.preprocessing import scale, StandardScaler\n",
    "from sklearn.metrics import confusion_matrix, classification_report, accuracy_score\n",
    "from sklearn.svm import SVC\n",
    "\n",
    "import tensorflow as tf\n",
    "import torch\n",
    "import torchvision\n",
    "import torch.nn as nn\n",
    "import torch.nn.functional as F\n",
    "import torch.optim as optim\n",
    "\n",
    "PATH = 'C:/Users/ingma/Documents/Education/Pattern Recognition/patternrecognition'\n",
    "FILENAME = 'mnist.csv'\n",
    "\n",
    "\n",
    "dataset = pd.read_csv(os.path.join(PATH, FILENAME))\n",
    "features = dataset.iloc[:,1:] \n",
    "labels = dataset.iloc[:,0]"
   ]
  },
  {
   "cell_type": "markdown",
   "metadata": {},
   "source": [
    "# Exploratory\n",
    "\n",
    "Before we start training classification models we first explore the dataset to get a better understanding of what the dataset entails, perhaps there are certain patterns that can already be recognized by simply looking at certain representations of the data. \n",
    "\n",
    "The first thing that stands out is that some of the pixels have a maximum value of 0, in other words: in all 42k examples, they are never once inked in. In total about 10% of the pixels are never inked in and therefore dont contain any information. In graph xxx the black colored pixels are pixels that are never once colored in. \n",
    "\n",
    "Another thing that stands out is that the sum of many pixels is near 0 (less than 1% of all samples), and most of the inked pixels are concentrated in the center area. When using 1% of samples as a boundary to draw new bounds, the size of the image will go from 28x28 to 25x23. In graph xxx black and dark gray colored pixels identify this border. \n",
    "\n",
    "We go one step further and look at the deviation of the normalized mean value per class for each pixel. Here it becomes apparent which pixels have a high distinctive value. Here the assumption is made that when the average values of two classes are far apart, they are easier to distinguish. \n",
    "\n",
    "Last but not least we look at the normalized means for each class individually to see what areas contain a disproportionately large or small amount of samples for that class. The red colored areas are areas that are positively correlated with that particular class, in contrast, the blue colored areas are inversely correlated. \n",
    "\n",
    "Now that we know what our data looks like and where the important features are, we can start processing the data, with the first step being to factorise the labels. From one column that contains the labels to n columns that correspond to the n labels. In this case it will be 10 columns, one column for each digit. "
   ]
  },
  {
   "cell_type": "code",
   "execution_count": 10,
   "metadata": {},
   "outputs": [
    {
     "name": "stdout",
     "output_type": "stream",
     "text": [
      "76\n",
      "0.7250238095238095\n"
     ]
    },
    {
     "data": {
      "image/png": "[encoded data removed]",
      "text/plain": [
       "<Figure size 432x288 with 2 Axes>"
      ]
     },
     "metadata": {
      "needs_background": "light"
     },
     "output_type": "display_data"
    }
   ],
   "source": [
    "# explore 1, max values = 0\n",
    "total_sum = features.astype(bool).astype(int)\n",
    "total_sum = total_sum.sum(axis=0) / 42000\n",
    "\n",
    "\n",
    "print(total_sum.value_counts()[0])\n",
    "print(total_sum.max())\n",
    "\n",
    "cmap = colors.ListedColormap(['#F6412D','#FF9800', '#FFC100','#FFEC19', 'white'])\n",
    "boundaries = [0, np.finfo(float).eps, 0.01,0.1,0.5, 0.75]\n",
    "norm = colors.BoundaryNorm(boundaries, cmap.N, clip=True)\n",
    "\n",
    "image = total_sum\n",
    "image = np.array(image, dtype='float')\n",
    "pixels = image.reshape((28, 28))\n",
    "plt.imshow(pixels, cmap=cmap, norm=norm)\n",
    "plt.colorbar()\n",
    "plt.title('Heatmap of inked pixel density')\n",
    "plt.show()"
   ]
  },
  {
   "cell_type": "code",
   "execution_count": 11,
   "metadata": {},
   "outputs": [
    {
     "name": "stdout",
     "output_type": "stream",
     "text": [
      "75.98609836171535 0.0\n"
     ]
    },
    {
     "data": {
      "image/png": "[encoded data removed]",
      "text/plain": [
       "<Figure size 432x288 with 2 Axes>"
      ]
     },
     "metadata": {
      "needs_background": "light"
     },
     "output_type": "display_data"
    }
   ],
   "source": [
    "# calculate means for each pixel (each column)\n",
    "total_means = features.mean(axis=0)\n",
    "\n",
    "\n",
    "grouped_means = dataset.groupby('label').mean()\n",
    "\n",
    "corrected_means = grouped_means - total_means\n",
    "\n",
    "corrected_sd = corrected_means.std()\n",
    "\n",
    "print(corrected_sd.max(), corrected_sd.min())\n",
    "\n",
    "image = corrected_sd\n",
    "image = np.array(image, dtype='float')\n",
    "pixels = image.reshape((28, 28))\n",
    "plt.imshow(pixels, cmap='PuBu_r')\n",
    "plt.colorbar()\n",
    "plt.show()"
   ]
  },
  {
   "cell_type": "code",
   "execution_count": 12,
   "metadata": {},
   "outputs": [
    {
     "ename": "NameError",
     "evalue": "name 'handles' is not defined",
     "output_type": "error",
     "traceback": [
      "\u001b[1;31m---------------------------------------------------------------------------\u001b[0m",
      "\u001b[1;31mNameError\u001b[0m                                 Traceback (most recent call last)",
      "\u001b[1;32m<ipython-input-12-d41bb8719c32>\u001b[0m in \u001b[0;36m<module>\u001b[1;34m\u001b[0m\n\u001b[0;32m     17\u001b[0m \u001b[0mfig\u001b[0m\u001b[1;33m.\u001b[0m\u001b[0mcolorbar\u001b[0m\u001b[1;33m(\u001b[0m\u001b[0max\u001b[0m\u001b[1;33m,\u001b[0m \u001b[0mcax\u001b[0m\u001b[1;33m=\u001b[0m\u001b[0mcbar_ax\u001b[0m\u001b[1;33m)\u001b[0m\u001b[1;33m\u001b[0m\u001b[1;33m\u001b[0m\u001b[0m\n\u001b[0;32m     18\u001b[0m \u001b[0mfig\u001b[0m\u001b[1;33m.\u001b[0m\u001b[0msubplots_adjust\u001b[0m\u001b[1;33m(\u001b[0m\u001b[0mwspace\u001b[0m\u001b[1;33m=\u001b[0m\u001b[1;33m-\u001b[0m\u001b[1;36m0.6\u001b[0m\u001b[1;33m,\u001b[0m \u001b[0mhspace\u001b[0m\u001b[1;33m=\u001b[0m\u001b[1;36m0.5\u001b[0m\u001b[1;33m)\u001b[0m\u001b[1;33m\u001b[0m\u001b[1;33m\u001b[0m\u001b[0m\n\u001b[1;32m---> 19\u001b[1;33m \u001b[0mfig\u001b[0m\u001b[1;33m.\u001b[0m\u001b[0mlegend\u001b[0m\u001b[1;33m(\u001b[0m\u001b[0mhandles\u001b[0m\u001b[1;33m,\u001b[0m \u001b[0mlabels\u001b[0m\u001b[1;33m,\u001b[0m \u001b[0mloc\u001b[0m\u001b[1;33m=\u001b[0m\u001b[1;34m'right'\u001b[0m\u001b[1;33m)\u001b[0m\u001b[1;33m\u001b[0m\u001b[1;33m\u001b[0m\u001b[0m\n\u001b[0m\u001b[0;32m     20\u001b[0m \u001b[0mfig\u001b[0m\u001b[1;33m.\u001b[0m\u001b[0msuptitle\u001b[0m\u001b[1;33m(\u001b[0m\u001b[1;34m'Normalized means of pixel density within each digit'\u001b[0m\u001b[1;33m,\u001b[0m \u001b[0my\u001b[0m\u001b[1;33m=\u001b[0m\u001b[1;36m0.95\u001b[0m\u001b[1;33m)\u001b[0m\u001b[1;33m\u001b[0m\u001b[1;33m\u001b[0m\u001b[0m\n\u001b[0;32m     21\u001b[0m \u001b[0mplt\u001b[0m\u001b[1;33m.\u001b[0m\u001b[0msavefig\u001b[0m\u001b[1;33m(\u001b[0m\u001b[1;34m'subplot.png'\u001b[0m\u001b[1;33m,\u001b[0m \u001b[0mbbox_inches\u001b[0m\u001b[1;33m=\u001b[0m\u001b[1;34m'tight'\u001b[0m\u001b[1;33m)\u001b[0m\u001b[1;33m\u001b[0m\u001b[1;33m\u001b[0m\u001b[0m\n",
      "\u001b[1;31mNameError\u001b[0m: name 'handles' is not defined"
     ]
    },
    {
     "data": {
      "image/png": "[encoded data removed]",
      "text/plain": [
       "<Figure size 1080x1080 with 11 Axes>"
      ]
     },
     "metadata": {
      "needs_background": "light"
     },
     "output_type": "display_data"
    }
   ],
   "source": [
    "\n",
    "# calculate mean per pixel per number\n",
    "\n",
    "fig = plt.figure(figsize=(15,15))\n",
    "\n",
    "for i, row in corrected_means.iterrows():\n",
    "    ax = plt.subplot(5,2,i+1)\n",
    "    ax.set_title(i)\n",
    "    ax.axes.get_xaxis().set_visible(False)\n",
    "    ax.axes.get_yaxis().set_visible(False)\n",
    "    image = corrected_means.loc[i]\n",
    "    image = np.array(image, dtype='float')\n",
    "    pixels = image.reshape((28, 28))\n",
    "    ax = plt.imshow(pixels, cmap='coolwarm')\n",
    "\n",
    "cbar_ax = fig.add_axes([0.75, 0.30, 0.05, 0.4])\n",
    "fig.colorbar(ax, cax=cbar_ax)\n",
    "fig.subplots_adjust(wspace=-0.6, hspace=0.5)\n",
    "fig.legend(handles, labels, loc='right')\n",
    "fig.suptitle('Normalized means of pixel density within each digit', y=0.95)\n",
    "plt.savefig('subplot.png', bbox_inches='tight')\n",
    "plt.show()\n",
    "\n",
    "\n"
   ]
  },
  {
   "cell_type": "code",
   "execution_count": null,
   "metadata": {},
   "outputs": [],
   "source": []
  },
  {
   "cell_type": "markdown",
   "metadata": {},
   "source": [
    "# Ink Density\n",
    "\n",
    "Derive from the raw pixel data a feature that quantifies \"how much ink\" a digit costs. Report the average and standard deviation of this feature within each class. If you look at these statistics, can you see which pairs of classes can be distinguished well, and which pairs will be hard to distinguish using this feature? Hint: Use the R function \"tapply\" to compute the mean and standard deviation per digit. If your feature is called \"density\", then \"tapply(density,mnist.dat[,1],mean)\" will compute the mean density for each digit."
   ]
  },
  {
   "cell_type": "code",
   "execution_count": null,
   "metadata": {},
   "outputs": [],
   "source": [
    "# ink density\n",
    "ink_cost = pd.DataFrame(features.mean(axis=1), columns=['ink'])\n",
    "ink_cost_labeled = ink_cost.join(labels)\n",
    "\n",
    "ink_means = ink_cost_labeled.groupby('label').mean()\n",
    "ink_std = ink_cost_labeled.groupby('label').std()\n",
    "\n",
    "print(ink_means)\n",
    "\n",
    "for i, j in ink_means.iterrows():\n",
    "    mu = ink_means.loc[i]\n",
    "    sigma = ink_std.loc[i]\n",
    "    x = np.linspace(mu - 3*sigma, mu + 3*sigma, 100)\n",
    "    plt.plot(x, stats.norm.pdf(x, mu, sigma), label=i)\n",
    "\n",
    "plt.legend()\n",
    "plt.title('Distribution of ink density within digits')\n",
    "plt.savefig('ink.png')\n",
    "plt.show()"
   ]
  },
  {
   "cell_type": "code",
   "execution_count": null,
   "metadata": {},
   "outputs": [],
   "source": [
    "# euclidian distance\n",
    "\n",
    "reshaped = np.array(features).reshape(-1, 28, 28) / 255\n",
    "gen_mean = pd.DataFrame(reshaped.mean(axis=(1,2)), columns=['mean'])\n",
    "\n",
    "# sqrt 14-x ^ 2     14-y ^ 2\n",
    "# empty array 28 * 28\n",
    "distances = np.zeros(shape=(28,28))\n",
    "\n",
    "center_x = distances.shape[0]/2\n",
    "center_y = distances.shape[1]/2\n",
    "print(center_x)\n",
    "for i in np.arange(distances.shape[0]):\n",
    "    for j in np.arange(distances.shape[1]):\n",
    "        distances[j,i] = np.hypot(i-center_x+0.5, j-center_y+0.5)\n",
    "\n",
    "# multiply reshaped for each sample with euclidian distantiator\n",
    "distance_pixels = distances * reshaped\n",
    "means = pd.DataFrame(distance_pixels.mean(axis=(1,2)), columns=['euclidiandist'])\n",
    "norm_means = np.divide(means, gen_mean)\n",
    "\n",
    "eucl_labeled = norm_means.join(labels)\n",
    "\n",
    "eucl_means = eucl_labeled.groupby('label').mean()\n",
    "eucl_std = eucl_labeled.groupby('label').std()\n",
    "\n",
    "#for i, j in eucl_means.iterrows():\n",
    "#    mu = eucl_means.loc[i]\n",
    "#    sigma = eucl_std.loc[i]\n",
    "#    x = np.linspace(mu - 3*sigma, mu + 3*sigma, 100)\n",
    "#    plt.plot(x, stats.norm.pdf(x, mu, sigma), label=i)\n",
    "    \n",
    "fig = sns.violinplot(x='label', y='euclidiandist', data=eucl_labeled, palette='muted')\n",
    "fig.set_title('Normalized average euclidean distance of ink within class')\n",
    "fig = fig.get_figure()\n",
    "#fig.savefig('violin.png')\n"
   ]
  },
  {
   "cell_type": "markdown",
   "metadata": {},
   "source": [
    "# Additional Feature\n",
    "addition to \"density\", come up with one other feature, and explain why you think it might discriminate well between the digits. Your report should contain an unambiguous description of how the feature is derived from the raw data. "
   ]
  },
  {
   "cell_type": "code",
   "execution_count": null,
   "metadata": {},
   "outputs": [],
   "source": []
  },
  {
   "cell_type": "markdown",
   "metadata": {},
   "source": [
    "# Multinomial Logit Model\n",
    "Using only the density feature, fit a multinomial logit model and evaluate, by looking at the confusion matrix, how well this model can distinguish between the different classes. Since in this part of the assignment we only consider very simple models, you may use the complete data set both for training and evaluation. For example, how well can the model distinguish between the digits \"1\" and \"8\"? And how well between \"3\" and \"8\"? Use the R function \"scale\" to scale your feature before you apply \"multinom\" to fit the multinomial logit model\n",
    "\n",
    "Also fit using additional feature, and fit using both features, do comparison. "
   ]
  },
  {
   "cell_type": "code",
   "execution_count": 13,
   "metadata": {},
   "outputs": [
    {
     "ename": "NameError",
     "evalue": "name 'ink_cost' is not defined",
     "output_type": "error",
     "traceback": [
      "\u001b[1;31m---------------------------------------------------------------------------\u001b[0m",
      "\u001b[1;31mNameError\u001b[0m                                 Traceback (most recent call last)",
      "\u001b[1;32m<ipython-input-13-deb48a84ca5d>\u001b[0m in \u001b[0;36m<module>\u001b[1;34m\u001b[0m\n\u001b[0;32m      1\u001b[0m \u001b[1;31m# density data\u001b[0m\u001b[1;33m\u001b[0m\u001b[1;33m\u001b[0m\u001b[1;33m\u001b[0m\u001b[0m\n\u001b[1;32m----> 2\u001b[1;33m \u001b[0mdens_data\u001b[0m \u001b[1;33m=\u001b[0m \u001b[0mscale\u001b[0m\u001b[1;33m(\u001b[0m\u001b[0mink_cost\u001b[0m\u001b[1;33m)\u001b[0m\u001b[1;33m\u001b[0m\u001b[1;33m\u001b[0m\u001b[0m\n\u001b[0m\u001b[0;32m      3\u001b[0m \u001b[1;33m\u001b[0m\u001b[0m\n\u001b[0;32m      4\u001b[0m \u001b[1;31m# labels\u001b[0m\u001b[1;33m\u001b[0m\u001b[1;33m\u001b[0m\u001b[1;33m\u001b[0m\u001b[0m\n\u001b[0;32m      5\u001b[0m \u001b[1;31m#print(labels.shape)\u001b[0m\u001b[1;33m\u001b[0m\u001b[1;33m\u001b[0m\u001b[1;33m\u001b[0m\u001b[0m\n",
      "\u001b[1;31mNameError\u001b[0m: name 'ink_cost' is not defined"
     ]
    }
   ],
   "source": [
    "# density data\n",
    "dens_data = scale(ink_cost)\n",
    "\n",
    "# labels\n",
    "#print(labels.shape)\n",
    "\n",
    "# init model\n",
    "clf = LogisticRegression(random_state=0, solver='saga', multi_class='multinomial', verbose=1).fit(dens_data, labels)\n",
    "preds = clf.predict(dens_data)\n",
    "conf = confusion_matrix(labels, preds)\n",
    "rep = classification_report(labels, preds)\n",
    "acc = accuracy_score(labels, preds)\n",
    "\n",
    "conf = confusion_matrix(labels, preds)\n",
    "df_cm = pd.DataFrame(conf, index = [i for i in \"0123456789\"], columns = [i for i in \"0123456789\"])\n",
    "plt.figure(figsize = (10,7))\n",
    "ax = sns.heatmap(df_cm, annot=True, fmt='d', cmap=\"OrRd\")\n",
    "ax.set_title('Confusion matrix of multinomial logit model using only the ink density feature')\n",
    "ax.set(ylabel='True classes', xlabel='Predicted classes')\n",
    "\n",
    "print(rep)\n",
    "print(acc)\n",
    "\n",
    "fig = ax.get_figure()\n",
    "fig.savefig('density_cm.png')"
   ]
  },
  {
   "cell_type": "code",
   "execution_count": 14,
   "metadata": {},
   "outputs": [
    {
     "ename": "NameError",
     "evalue": "name 'norm_means' is not defined",
     "output_type": "error",
     "traceback": [
      "\u001b[1;31m---------------------------------------------------------------------------\u001b[0m",
      "\u001b[1;31mNameError\u001b[0m                                 Traceback (most recent call last)",
      "\u001b[1;32m<ipython-input-14-0df7978c76c1>\u001b[0m in \u001b[0;36m<module>\u001b[1;34m\u001b[0m\n\u001b[0;32m      4\u001b[0m \u001b[1;33m\u001b[0m\u001b[0m\n\u001b[0;32m      5\u001b[0m \u001b[1;31m# euclidean data\u001b[0m\u001b[1;33m\u001b[0m\u001b[1;33m\u001b[0m\u001b[1;33m\u001b[0m\u001b[0m\n\u001b[1;32m----> 6\u001b[1;33m \u001b[0meucl_data\u001b[0m \u001b[1;33m=\u001b[0m \u001b[0mscale\u001b[0m\u001b[1;33m(\u001b[0m\u001b[0mnorm_means\u001b[0m\u001b[1;33m)\u001b[0m\u001b[1;33m\u001b[0m\u001b[1;33m\u001b[0m\u001b[0m\n\u001b[0m\u001b[0;32m      7\u001b[0m \u001b[1;31m#print(norm_means)\u001b[0m\u001b[1;33m\u001b[0m\u001b[1;33m\u001b[0m\u001b[1;33m\u001b[0m\u001b[0m\n\u001b[0;32m      8\u001b[0m \u001b[1;33m\u001b[0m\u001b[0m\n",
      "\u001b[1;31mNameError\u001b[0m: name 'norm_means' is not defined"
     ]
    }
   ],
   "source": [
    "from sklearn.linear_model import LogisticRegression\n",
    "from sklearn.preprocessing import scale\n",
    "from sklearn.metrics import confusion_matrix, classification_report, accuracy_score\n",
    "\n",
    "# euclidean data\n",
    "eucl_data = scale(norm_means)\n",
    "#print(norm_means)\n",
    "\n",
    "# labels\n",
    "#print(labels.shape)\n",
    "\n",
    "# init model\n",
    "clf = LogisticRegression(random_state=0, solver='saga', multi_class='multinomial', verbose=1).fit(eucl_data, labels)\n",
    "preds = clf.predict(eucl_data)\n",
    "rep = classification_report(labels, preds)\n",
    "acc = accuracy_score(labels, preds)\n",
    "\n",
    "conf = confusion_matrix(labels, preds)\n",
    "df_cm = pd.DataFrame(conf, index = [i for i in \"0123456789\"], columns = [i for i in \"0123456789\"])\n",
    "plt.figure(figsize = (10,7))\n",
    "ax = sns.heatmap(df_cm, annot=True, fmt='d', cmap=\"OrRd\")\n",
    "ax.set_title('Confusion matrix of multinomial logit model using only the ink spread feature')\n",
    "ax.set(ylabel='True classes', xlabel='Predicted classes')\n",
    "\n",
    "print(rep)\n",
    "print(acc)\n",
    "\n",
    "fig = ax.get_figure()\n",
    "fig.savefig('spread_cm.png')"
   ]
  },
  {
   "cell_type": "code",
   "execution_count": 15,
   "metadata": {},
   "outputs": [
    {
     "ename": "NameError",
     "evalue": "name 'eucl_data' is not defined",
     "output_type": "error",
     "traceback": [
      "\u001b[1;31m---------------------------------------------------------------------------\u001b[0m",
      "\u001b[1;31mNameError\u001b[0m                                 Traceback (most recent call last)",
      "\u001b[1;32m<ipython-input-15-262a4731d117>\u001b[0m in \u001b[0;36m<module>\u001b[1;34m\u001b[0m\n\u001b[1;32m----> 1\u001b[1;33m \u001b[0mcombined_data\u001b[0m \u001b[1;33m=\u001b[0m \u001b[0mnp\u001b[0m\u001b[1;33m.\u001b[0m\u001b[0mcolumn_stack\u001b[0m\u001b[1;33m(\u001b[0m\u001b[1;33m(\u001b[0m\u001b[0meucl_data\u001b[0m\u001b[1;33m,\u001b[0m \u001b[0mdens_data\u001b[0m\u001b[1;33m)\u001b[0m\u001b[1;33m)\u001b[0m\u001b[1;33m\u001b[0m\u001b[1;33m\u001b[0m\u001b[0m\n\u001b[0m\u001b[0;32m      2\u001b[0m \u001b[1;33m\u001b[0m\u001b[0m\n\u001b[0;32m      3\u001b[0m \u001b[0mclf\u001b[0m \u001b[1;33m=\u001b[0m \u001b[0mLogisticRegression\u001b[0m\u001b[1;33m(\u001b[0m\u001b[0mrandom_state\u001b[0m\u001b[1;33m=\u001b[0m\u001b[1;36m0\u001b[0m\u001b[1;33m,\u001b[0m \u001b[0msolver\u001b[0m\u001b[1;33m=\u001b[0m\u001b[1;34m'saga'\u001b[0m\u001b[1;33m,\u001b[0m \u001b[0mmulti_class\u001b[0m\u001b[1;33m=\u001b[0m\u001b[1;34m'multinomial'\u001b[0m\u001b[1;33m,\u001b[0m \u001b[0mverbose\u001b[0m\u001b[1;33m=\u001b[0m\u001b[1;36m1\u001b[0m\u001b[1;33m)\u001b[0m\u001b[1;33m.\u001b[0m\u001b[0mfit\u001b[0m\u001b[1;33m(\u001b[0m\u001b[0mcombined_data\u001b[0m\u001b[1;33m,\u001b[0m \u001b[0mlabels\u001b[0m\u001b[1;33m)\u001b[0m\u001b[1;33m\u001b[0m\u001b[1;33m\u001b[0m\u001b[0m\n\u001b[0;32m      4\u001b[0m \u001b[0mpreds\u001b[0m \u001b[1;33m=\u001b[0m \u001b[0mclf\u001b[0m\u001b[1;33m.\u001b[0m\u001b[0mpredict\u001b[0m\u001b[1;33m(\u001b[0m\u001b[0mcombined_data\u001b[0m\u001b[1;33m)\u001b[0m\u001b[1;33m\u001b[0m\u001b[1;33m\u001b[0m\u001b[0m\n\u001b[0;32m      5\u001b[0m \u001b[0mconf\u001b[0m \u001b[1;33m=\u001b[0m \u001b[0mconfusion_matrix\u001b[0m\u001b[1;33m(\u001b[0m\u001b[0mlabels\u001b[0m\u001b[1;33m,\u001b[0m \u001b[0mpreds\u001b[0m\u001b[1;33m)\u001b[0m\u001b[1;33m\u001b[0m\u001b[1;33m\u001b[0m\u001b[0m\n",
      "\u001b[1;31mNameError\u001b[0m: name 'eucl_data' is not defined"
     ]
    }
   ],
   "source": [
    "combined_data = np.column_stack((eucl_data, dens_data))\n",
    "\n",
    "clf = LogisticRegression(random_state=0, solver='saga', multi_class='multinomial', verbose=1).fit(combined_data, labels)\n",
    "preds = clf.predict(combined_data)\n",
    "conf = confusion_matrix(labels, preds)\n",
    "rep = classification_report(labels, preds)\n",
    "acc = accuracy_score(labels, preds)\n",
    "\n",
    "conf = confusion_matrix(labels, preds)\n",
    "df_cm = pd.DataFrame(conf, index = [i for i in \"0123456789\"], columns = [i for i in \"0123456789\"])\n",
    "plt.figure(figsize = (10,7))\n",
    "ax = sns.heatmap(df_cm, annot=True, fmt='d', cmap='OrRd')\n",
    "ax.set_title('Confusion matrix of multinomial logit model using the ink spread and ink density features')\n",
    "ax.set(ylabel='True classes', xlabel='Predicted classes')\n",
    "\n",
    "print(rep)\n",
    "print(acc)\n",
    "\n",
    "fig = ax.get_figure()\n",
    "fig.savefig('combined_cm.png')"
   ]
  },
  {
   "cell_type": "markdown",
   "metadata": {},
   "source": [
    "# Data pre processing\n",
    "Draw a random sample of size 5,000 from the data, and use these 5,000 examples for training and model selection (using cross-validation). Estimate the error of the models finally selected on the remaining 37,000 examples.\n",
    "\n",
    "You may reduce the level of detail to, for example, a 14x14 pixel image (the function \"down_sample_image\" from the \"OpenImageR\" package may come in very handy here). In that case you will have only 196 features instead of 784.\n",
    "If you choose to do so, indicate this clearly in the report."
   ]
  },
  {
   "cell_type": "code",
   "execution_count": 16,
   "metadata": {},
   "outputs": [
    {
     "name": "stdout",
     "output_type": "stream",
     "text": [
      "       pixel0  pixel1  pixel2  pixel3  pixel4  pixel5  pixel6  pixel7  pixel8  \\\n",
      "count  5000.0  5000.0  5000.0  5000.0  5000.0  5000.0  5000.0  5000.0  5000.0   \n",
      "mean      0.0     0.0     0.0     0.0     0.0     0.0     0.0     0.0     0.0   \n",
      "std       0.0     0.0     0.0     0.0     0.0     0.0     0.0     0.0     0.0   \n",
      "min       0.0     0.0     0.0     0.0     0.0     0.0     0.0     0.0     0.0   \n",
      "25%       0.0     0.0     0.0     0.0     0.0     0.0     0.0     0.0     0.0   \n",
      "50%       0.0     0.0     0.0     0.0     0.0     0.0     0.0     0.0     0.0   \n",
      "75%       0.0     0.0     0.0     0.0     0.0     0.0     0.0     0.0     0.0   \n",
      "max       0.0     0.0     0.0     0.0     0.0     0.0     0.0     0.0     0.0   \n",
      "\n",
      "       pixel9  ...     pixel774     pixel775     pixel776     pixel777  \\\n",
      "count  5000.0  ...  5000.000000  5000.000000  5000.000000  5000.000000   \n",
      "mean      0.0  ...     0.000580     0.000226     0.000150     0.000100   \n",
      "std       0.0  ...     0.018561     0.013318     0.010593     0.007099   \n",
      "min       0.0  ...     0.000000     0.000000     0.000000     0.000000   \n",
      "25%       0.0  ...     0.000000     0.000000     0.000000     0.000000   \n",
      "50%       0.0  ...     0.000000     0.000000     0.000000     0.000000   \n",
      "75%       0.0  ...     0.000000     0.000000     0.000000     0.000000   \n",
      "max       0.0  ...     0.886275     0.917647     0.749020     0.501961   \n",
      "\n",
      "       pixel778  pixel779  pixel780  pixel781  pixel782  pixel783  \n",
      "count    5000.0    5000.0    5000.0    5000.0    5000.0    5000.0  \n",
      "mean        0.0       0.0       0.0       0.0       0.0       0.0  \n",
      "std         0.0       0.0       0.0       0.0       0.0       0.0  \n",
      "min         0.0       0.0       0.0       0.0       0.0       0.0  \n",
      "25%         0.0       0.0       0.0       0.0       0.0       0.0  \n",
      "50%         0.0       0.0       0.0       0.0       0.0       0.0  \n",
      "75%         0.0       0.0       0.0       0.0       0.0       0.0  \n",
      "max         0.0       0.0       0.0       0.0       0.0       0.0  \n",
      "\n",
      "[8 rows x 784 columns]\n"
     ]
    }
   ],
   "source": [
    "# make train and test datasets\n",
    "\n",
    "#dataset = pd.read_csv(os.path.join(PATH, FILENAME))\n",
    "#features = dataset.iloc[:,1:] \n",
    "#labels = dataset.iloc[:,0]\n",
    "\n",
    "train_z = dataset.sample(n=5000, random_state=0)\n",
    "test_z = pd.concat([dataset, train_z]).drop_duplicates(keep=False)\n",
    "\n",
    "train_x = train_z.iloc[:,1:] / 255\n",
    "train_y = train_z.iloc[:,0]\n",
    "\n",
    "test_x = test_z.iloc[:,1:] / 255\n",
    "test_y = test_z.iloc[:,0]\n",
    "\n",
    "print(train_x.describe())"
   ]
  },
  {
   "cell_type": "markdown",
   "metadata": {},
   "source": [
    "# Model comparison\n",
    "You should analyse the data with:\n",
    "\n",
    "the regularized multinomial logit model (using the LASSO penalty),\n",
    "support vector machines,\n",
    "feed-forward neural networks.\n",
    "Make sure you use the same sample for training and model selection for each algorithm.\n",
    "Otherwise the comparison wouldn't be fair!\n",
    "For each classification method that you apply, discuss the following:\n",
    "\n",
    "What are the complexity parameters of the classification algorithm, and how did you select their values?\n",
    "What is the estimated accuracy of the best classifier for this method?"
   ]
  },
  {
   "cell_type": "markdown",
   "metadata": {},
   "source": [
    "## multinomial logit\n",
    "What are the complexity parameters of the classification algorithm, and how did you select their values?\n",
    "What is the estimated accuracy of the best classifier for this method?\n",
    "For these experiments, you should train models with different parameter settings, and use cross-validation to select the best parameter setting. Use the remaining data to produce an honest estimate of the accuracy of the model finally selected for each method. For example, the complexity parameter for the regularized multinomial logit model with LASSO penalty is \"lambda\". Try different values of \"lambda\" and use cross-validation to pick the value that produces the smallest classification error. This is exactly what the R function \"cv.glmnet\" does for you, so we made it easy for you! Finally, to produce an unbiased estimate of the error for the value of \"lambda\" selected, compute its classification error on the remaining data. To perform cross-validation for the support vector machine and neural network, you can use the functions \"tune.svm\" and \"tune.nnet\" from the \"e1071\" package respectively.\n"
   ]
  },
  {
   "cell_type": "code",
   "execution_count": 114,
   "metadata": {},
   "outputs": [
    {
     "name": "stdout",
     "output_type": "stream",
     "text": [
      "Fitting 5 folds for each of 4 candidates, totalling 20 fits\n",
      "[CV] C=1.0 ...........................................................\n",
      "[CV] ................... C=1.0, score=0.897410358565737, total=  58.6s\n",
      "[CV] C=1.0 ...........................................................\n"
     ]
    },
    {
     "name": "stderr",
     "output_type": "stream",
     "text": [
      "[Parallel(n_jobs=1)]: Done   1 out of   1 | elapsed:   58.6s remaining:    0.0s\n"
     ]
    },
    {
     "name": "stdout",
     "output_type": "stream",
     "text": [
      "[CV] .................. C=1.0, score=0.8802395209580839, total=  47.4s\n",
      "[CV] C=1.0 ...........................................................\n"
     ]
    },
    {
     "name": "stderr",
     "output_type": "stream",
     "text": [
      "[Parallel(n_jobs=1)]: Done   2 out of   2 | elapsed:  1.8min remaining:    0.0s\n"
     ]
    },
    {
     "name": "stdout",
     "output_type": "stream",
     "text": [
      "[CV] ............................... C=1.0, score=0.892, total= 1.1min\n",
      "[CV] C=1.0 ...........................................................\n",
      "[CV] .................. C=1.0, score=0.8797595190380761, total= 1.1min\n",
      "[CV] C=1.0 ...........................................................\n",
      "[CV] ................... C=1.0, score=0.892570281124498, total= 1.1min\n",
      "[CV] C=0.8 ...........................................................\n",
      "[CV] ................... C=0.8, score=0.900398406374502, total=  51.7s\n",
      "[CV] C=0.8 ...........................................................\n",
      "[CV] .................. C=0.8, score=0.8812375249500998, total=  46.9s\n",
      "[CV] C=0.8 ...........................................................\n",
      "[CV] ............................... C=0.8, score=0.893, total=  54.8s\n",
      "[CV] C=0.8 ...........................................................\n",
      "[CV] .................. C=0.8, score=0.8807615230460922, total=  52.3s\n",
      "[CV] C=0.8 ...........................................................\n",
      "[CV] .................. C=0.8, score=0.8945783132530121, total=  49.7s\n",
      "[CV] C=0.6 ...........................................................\n",
      "[CV] .................. C=0.6, score=0.9053784860557769, total=  40.9s\n",
      "[CV] C=0.6 ...........................................................\n",
      "[CV] .................. C=0.6, score=0.8872255489021956, total=  38.4s\n",
      "[CV] C=0.6 ...........................................................\n",
      "[CV] ............................... C=0.6, score=0.894, total=  41.5s\n",
      "[CV] C=0.6 ...........................................................\n",
      "[CV] .................. C=0.6, score=0.8867735470941884, total=  41.2s\n",
      "[CV] C=0.6 ...........................................................\n",
      "[CV] .................. C=0.6, score=0.8955823293172691, total=  44.0s\n",
      "[CV] C=0.4 ...........................................................\n",
      "[CV] .................. C=0.4, score=0.9063745019920318, total=  37.6s\n",
      "[CV] C=0.4 ...........................................................\n",
      "[CV] .................. C=0.4, score=0.8902195608782435, total=  36.3s\n",
      "[CV] C=0.4 ...........................................................\n",
      "[CV] ............................... C=0.4, score=0.894, total=  38.7s\n",
      "[CV] C=0.4 ...........................................................\n",
      "[CV] .................. C=0.4, score=0.8917835671342685, total=  32.8s\n",
      "[CV] C=0.4 ...........................................................\n",
      "[CV] .................. C=0.4, score=0.8995983935742972, total=  34.2s\n"
     ]
    },
    {
     "name": "stderr",
     "output_type": "stream",
     "text": [
      "[Parallel(n_jobs=1)]: Done  20 out of  20 | elapsed: 15.8min finished\n"
     ]
    },
    {
     "name": "stdout",
     "output_type": "stream",
     "text": [
      "{'C': 0.4}\n",
      "             precision    recall  f1-score   support\n",
      "\n",
      "          0       0.94      0.96      0.95      3638\n",
      "          1       0.92      0.97      0.95      4120\n",
      "          2       0.90      0.86      0.88      3676\n",
      "          3       0.87      0.87      0.87      3829\n",
      "          4       0.91      0.91      0.91      3562\n",
      "          5       0.87      0.83      0.85      3363\n",
      "          6       0.93      0.94      0.94      3636\n",
      "          7       0.91      0.92      0.91      3848\n",
      "          8       0.87      0.82      0.85      3620\n",
      "          9       0.85      0.89      0.87      3708\n",
      "\n",
      "avg / total       0.90      0.90      0.90     37000\n",
      " 0.8985405405405406\n"
     ]
    }
   ],
   "source": [
    "# classifier initialization\n",
    "clf = LogisticRegression(random_state=0, solver='saga', multi_class='multinomial', n_jobs=2, max_iter=500)\n",
    "\n",
    "# parameters\n",
    "params = {'C': [1.0, 0.8, 0.6, 0.4]}\n",
    "\n",
    "# parameter optimization\n",
    "grid = GridSearchCV(clf,params, cv=5, verbose=3, n_jobs=2)\n",
    "clf = grid.fit(train_x, train_y)\n",
    "\n",
    "# prediction\n",
    "preds = clf.predict(test_x)\n",
    "\n",
    "# scoring\n",
    "rep = classification_report(test_y, preds)\n",
    "acc = accuracy_score(test_y, preds)\n",
    "\n",
    "# prints\n",
    "print(clf.best_params_)\n",
    "print(rep, acc)"
   ]
  },
  {
   "cell_type": "markdown",
   "metadata": {},
   "source": [
    "## SVM\n",
    "What are the complexity parameters of the classification algorithm, and how did you select their values?\n",
    "What is the estimated accuracy of the best classifier for this method?\n",
    "For these experiments, you should train models with different parameter settings, and use cross-validation to select the best parameter setting. Use the remaining data to produce an honest estimate of the accuracy of the model finally selected for each method. For example, the complexity parameter for the regularized multinomial logit model with LASSO penalty is \"lambda\". Try different values of \"lambda\" and use cross-validation to pick the value that produces the smallest classification error. This is exactly what the R function \"cv.glmnet\" does for you, so we made it easy for you! Finally, to produce an unbiased estimate of the error for the value of \"lambda\" selected, compute its classification error on the remaining data. To perform cross-validation for the support vector machine and neural network, you can use the functions \"tune.svm\" and \"tune.nnet\" from the \"e1071\" package respectively.\n"
   ]
  },
  {
   "cell_type": "code",
   "execution_count": 5,
   "metadata": {},
   "outputs": [
    {
     "name": "stdout",
     "output_type": "stream",
     "text": [
      "Fitting 5 folds for each of 4 candidates, totalling 20 fits\n",
      "[CV] C=1.0 ...........................................................\n",
      "[CV] .................. C=1.0, score=0.9123505976095617, total=  10.5s\n",
      "[CV] C=1.0 ...........................................................\n"
     ]
    },
    {
     "name": "stderr",
     "output_type": "stream",
     "text": [
      "[Parallel(n_jobs=1)]: Done   1 out of   1 | elapsed:   19.4s remaining:    0.0s\n"
     ]
    },
    {
     "name": "stdout",
     "output_type": "stream",
     "text": [
      "[CV] .................. C=1.0, score=0.8962075848303394, total=  10.3s\n",
      "[CV] C=1.0 ...........................................................\n"
     ]
    },
    {
     "name": "stderr",
     "output_type": "stream",
     "text": [
      "[Parallel(n_jobs=1)]: Done   2 out of   2 | elapsed:   38.4s remaining:    0.0s\n"
     ]
    },
    {
     "name": "stdout",
     "output_type": "stream",
     "text": [
      "[CV] ............................... C=1.0, score=0.902, total=  11.6s\n",
      "[CV] C=1.0 ...........................................................\n",
      "[CV] .................. C=1.0, score=0.8987975951903807, total=  10.8s\n",
      "[CV] C=1.0 ...........................................................\n",
      "[CV] .................. C=1.0, score=0.8995983935742972, total=  11.0s\n",
      "[CV] C=0.8 ...........................................................\n",
      "[CV] .................. C=0.8, score=0.9083665338645418, total=  13.3s\n",
      "[CV] C=0.8 ...........................................................\n",
      "[CV] .................. C=0.8, score=0.8902195608782435, total=  11.2s\n",
      "[CV] C=0.8 ...........................................................\n",
      "[CV] ............................... C=0.8, score=0.897, total=  14.3s\n",
      "[CV] C=0.8 ...........................................................\n",
      "[CV] .................. C=0.8, score=0.8937875751503006, total=  13.1s\n",
      "[CV] C=0.8 ...........................................................\n",
      "[CV] .................. C=0.8, score=0.8965863453815262, total=  11.2s\n",
      "[CV] C=0.6 ...........................................................\n",
      "[CV] ................... C=0.6, score=0.899402390438247, total=  13.7s\n",
      "[CV] C=0.6 ...........................................................\n",
      "[CV] .................. C=0.6, score=0.8862275449101796, total=  13.0s\n",
      "[CV] C=0.6 ...........................................................\n",
      "[CV] ............................... C=0.6, score=0.892, total=  12.8s\n",
      "[CV] C=0.6 ...........................................................\n",
      "[CV] .................. C=0.6, score=0.8857715430861723, total=  12.8s\n",
      "[CV] C=0.6 ...........................................................\n",
      "[CV] .................. C=0.6, score=0.8885542168674698, total=  12.8s\n",
      "[CV] C=0.4 ...........................................................\n",
      "[CV] .................. C=0.4, score=0.8934262948207171, total=  15.5s\n",
      "[CV] C=0.4 ...........................................................\n",
      "[CV] ................... C=0.4, score=0.873253493013972, total=  14.6s\n",
      "[CV] C=0.4 ...........................................................\n",
      "[CV] ............................... C=0.4, score=0.884, total=  15.4s\n",
      "[CV] C=0.4 ...........................................................\n",
      "[CV] .................. C=0.4, score=0.8797595190380761, total=  14.4s\n",
      "[CV] C=0.4 ...........................................................\n",
      "[CV] .................. C=0.4, score=0.8775100401606426, total=  14.5s\n"
     ]
    },
    {
     "name": "stderr",
     "output_type": "stream",
     "text": [
      "[Parallel(n_jobs=1)]: Done  20 out of  20 | elapsed:  7.6min finished\n"
     ]
    },
    {
     "name": "stdout",
     "output_type": "stream",
     "text": [
      "{'C': 1.0}\n",
      "             precision    recall  f1-score   support\n",
      "\n",
      "          0       0.95      0.97      0.96      3638\n",
      "          1       0.90      0.98      0.94      4120\n",
      "          2       0.93      0.87      0.90      3676\n",
      "          3       0.88      0.87      0.88      3829\n",
      "          4       0.89      0.92      0.90      3562\n",
      "          5       0.87      0.86      0.86      3363\n",
      "          6       0.92      0.96      0.94      3636\n",
      "          7       0.92      0.91      0.92      3848\n",
      "          8       0.91      0.84      0.88      3620\n",
      "          9       0.87      0.87      0.87      3708\n",
      "\n",
      "avg / total       0.91      0.91      0.90     37000\n",
      " 0.9054054054054054\n"
     ]
    }
   ],
   "source": [
    "# classifier initialization\n",
    "clf = SVC(random_state=0)\n",
    "\n",
    "# parameters\n",
    "params = {'C': [1.0, 0.8, 0.6, 0.4]}\n",
    "\n",
    "# parameter optimization\n",
    "grid = GridSearchCV(clf,params, cv=5, verbose=3)\n",
    "clf = grid.fit(train_x, train_y)\n",
    "\n",
    "# prediction\n",
    "preds = clf.predict(test_x)\n",
    "\n",
    "# scoring\n",
    "rep = classification_report(test_y, preds)\n",
    "acc = accuracy_score(test_y, preds)\n",
    "\n",
    "# prints\n",
    "print(clf.best_params_)\n",
    "print(rep, acc)"
   ]
  },
  {
   "cell_type": "markdown",
   "metadata": {},
   "source": [
    "## FFNN\n",
    "What are the complexity parameters of the classification algorithm, and how did you select their values?\n",
    "What is the estimated accuracy of the best classifier for this method?\n",
    "For these experiments, you should train models with different parameter settings, and use cross-validation to select the best parameter setting. Use the remaining data to produce an honest estimate of the accuracy of the model finally selected for each method. For example, the complexity parameter for the regularized multinomial logit model with LASSO penalty is \"lambda\". Try different values of \"lambda\" and use cross-validation to pick the value that produces the smallest classification error. This is exactly what the R function \"cv.glmnet\" does for you, so we made it easy for you! Finally, to produce an unbiased estimate of the error for the value of \"lambda\" selected, compute its classification error on the remaining data. To perform cross-validation for the support vector machine and neural network, you can use the functions \"tune.svm\" and \"tune.nnet\" from the \"e1071\" package respectively.\n"
   ]
  },
  {
   "cell_type": "code",
   "execution_count": 26,
   "metadata": {},
   "outputs": [
    {
     "name": "stdout",
     "output_type": "stream",
     "text": [
      "(5000, 784) (37000, 784)\n",
      "<class 'pandas.core.frame.DataFrame'>\n"
     ]
    },
    {
     "ename": "RuntimeError",
     "evalue": "dataset.__iter__() is only supported when eager execution is enabled.",
     "output_type": "error",
     "traceback": [
      "\u001b[1;31m---------------------------------------------------------------------------\u001b[0m",
      "\u001b[1;31mRuntimeError\u001b[0m                              Traceback (most recent call last)",
      "\u001b[1;32m<ipython-input-26-5370ec6e1c8d>\u001b[0m in \u001b[0;36m<module>\u001b[1;34m\u001b[0m\n\u001b[0;32m     10\u001b[0m \u001b[0mtest_tensor\u001b[0m \u001b[1;33m=\u001b[0m \u001b[0mtf\u001b[0m\u001b[1;33m.\u001b[0m\u001b[0mdata\u001b[0m\u001b[1;33m.\u001b[0m\u001b[0mDataset\u001b[0m\u001b[1;33m.\u001b[0m\u001b[0mfrom_tensor_slices\u001b[0m\u001b[1;33m(\u001b[0m\u001b[1;33m(\u001b[0m\u001b[0mtest_x\u001b[0m\u001b[1;33m.\u001b[0m\u001b[0mvalues\u001b[0m\u001b[1;33m,\u001b[0m \u001b[0mtest_y\u001b[0m\u001b[1;33m.\u001b[0m\u001b[0mvalues\u001b[0m\u001b[1;33m)\u001b[0m\u001b[1;33m)\u001b[0m\u001b[1;33m\u001b[0m\u001b[1;33m\u001b[0m\u001b[0m\n\u001b[0;32m     11\u001b[0m \u001b[1;33m\u001b[0m\u001b[0m\n\u001b[1;32m---> 12\u001b[1;33m \u001b[1;32mfor\u001b[0m \u001b[0mfeat\u001b[0m\u001b[1;33m,\u001b[0m \u001b[0mtarg\u001b[0m \u001b[1;32min\u001b[0m \u001b[0mtrain_tensor\u001b[0m\u001b[1;33m.\u001b[0m\u001b[0mtake\u001b[0m\u001b[1;33m(\u001b[0m\u001b[1;36m5\u001b[0m\u001b[1;33m)\u001b[0m\u001b[1;33m:\u001b[0m\u001b[1;33m\u001b[0m\u001b[1;33m\u001b[0m\u001b[0m\n\u001b[0m\u001b[0;32m     13\u001b[0m   \u001b[0mprint\u001b[0m \u001b[1;33m(\u001b[0m\u001b[1;34m'Features: {}, Target: {}'\u001b[0m\u001b[1;33m.\u001b[0m\u001b[0mformat\u001b[0m\u001b[1;33m(\u001b[0m\u001b[0mfeat\u001b[0m\u001b[1;33m,\u001b[0m \u001b[0mtarg\u001b[0m\u001b[1;33m)\u001b[0m\u001b[1;33m)\u001b[0m\u001b[1;33m\u001b[0m\u001b[1;33m\u001b[0m\u001b[0m\n",
      "\u001b[1;32mC:\\Anaconda3\\envs\\datascience\\lib\\site-packages\\tensorflow\\python\\data\\ops\\dataset_ops.py\u001b[0m in \u001b[0;36m__iter__\u001b[1;34m(self)\u001b[0m\n\u001b[0;32m   1644\u001b[0m \u001b[1;33m\u001b[0m\u001b[0m\n\u001b[0;32m   1645\u001b[0m   \u001b[1;32mdef\u001b[0m \u001b[0m__iter__\u001b[0m\u001b[1;33m(\u001b[0m\u001b[0mself\u001b[0m\u001b[1;33m)\u001b[0m\u001b[1;33m:\u001b[0m\u001b[1;33m\u001b[0m\u001b[1;33m\u001b[0m\u001b[0m\n\u001b[1;32m-> 1646\u001b[1;33m     \u001b[1;32mreturn\u001b[0m \u001b[0miter\u001b[0m\u001b[1;33m(\u001b[0m\u001b[0mself\u001b[0m\u001b[1;33m.\u001b[0m\u001b[0m_dataset\u001b[0m\u001b[1;33m)\u001b[0m\u001b[1;33m\u001b[0m\u001b[1;33m\u001b[0m\u001b[0m\n\u001b[0m\u001b[0;32m   1647\u001b[0m \u001b[1;33m\u001b[0m\u001b[0m\n\u001b[0;32m   1648\u001b[0m \u001b[1;33m\u001b[0m\u001b[0m\n",
      "\u001b[1;32mC:\\Anaconda3\\envs\\datascience\\lib\\site-packages\\tensorflow\\python\\data\\ops\\dataset_ops.py\u001b[0m in \u001b[0;36m__iter__\u001b[1;34m(self)\u001b[0m\n\u001b[0;32m    204\u001b[0m       \u001b[1;32mreturn\u001b[0m \u001b[0miterator_ops\u001b[0m\u001b[1;33m.\u001b[0m\u001b[0mEagerIterator\u001b[0m\u001b[1;33m(\u001b[0m\u001b[0mself\u001b[0m\u001b[1;33m)\u001b[0m\u001b[1;33m\u001b[0m\u001b[1;33m\u001b[0m\u001b[0m\n\u001b[0;32m    205\u001b[0m     \u001b[1;32melse\u001b[0m\u001b[1;33m:\u001b[0m\u001b[1;33m\u001b[0m\u001b[1;33m\u001b[0m\u001b[0m\n\u001b[1;32m--> 206\u001b[1;33m       raise RuntimeError(\"dataset.__iter__() is only supported when eager \"\n\u001b[0m\u001b[0;32m    207\u001b[0m                          \"execution is enabled.\")\n\u001b[0;32m    208\u001b[0m \u001b[1;33m\u001b[0m\u001b[0m\n",
      "\u001b[1;31mRuntimeError\u001b[0m: dataset.__iter__() is only supported when eager execution is enabled."
     ]
    }
   ],
   "source": [
    "n_epochs = 3\n",
    "learning_rate = 0.01\n",
    "momentum = 0.5\n",
    "log_interval = 10\n",
    "\n",
    "train_tensor = tf.data.Dataset.from_tensor_slices((train_x.values, train_y.values))\n",
    "test_tensor = tf.data.Dataset.from_tensor_slices((test_x.values, test_y.values))\n"
   ]
  },
  {
   "cell_type": "markdown",
   "metadata": {},
   "source": [
    "# Comparison\n",
    "Which classification method(s) produced the best classifier for this problem?\n",
    "After step 3 you will have determined the best parameter settings for each algorithm, and you will have applied the algorithm with these parameter settings to the complete training sample to produce a model. Furthermore you will have estimated the error of these models on the remaining data. Now compare the accuracies of these three models, and perform a statistical test to see if there are any significant differences between their accuracies."
   ]
  },
  {
   "cell_type": "code",
   "execution_count": null,
   "metadata": {},
   "outputs": [],
   "source": []
  },
  {
   "cell_type": "markdown",
   "metadata": {},
   "source": [
    "# Conclusion\n",
    "\n",
    "content"
   ]
  },
  {
   "cell_type": "markdown",
   "metadata": {},
   "source": [
    "# Discussion\n",
    "\n",
    "content"
   ]
  },
  {
   "cell_type": "code",
   "execution_count": null,
   "metadata": {},
   "outputs": [],
   "source": []
  }
 ],
 "metadata": {
  "kernelspec": {
   "display_name": "Python 3",
   "language": "python",
   "name": "python3"
  },
  "language_info": {
   "codemirror_mode": {
    "name": "ipython",
    "version": 3
   },
   "file_extension": ".py",
   "mimetype": "text/x-python",
   "name": "python",
   "nbconvert_exporter": "python",
   "pygments_lexer": "ipython3",
   "version": "3.7.3"
  }
 },
 "nbformat": 4,
 "nbformat_minor": 1
}
